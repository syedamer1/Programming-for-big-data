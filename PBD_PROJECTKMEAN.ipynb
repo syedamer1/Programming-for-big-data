{
 "cells": [
  {
   "cell_type": "code",
   "execution_count": 1,
   "id": "f833e025",
   "metadata": {},
   "outputs": [
    {
     "name": "stdout",
     "output_type": "stream",
     "text": [
      "['[[GNU]]\\n', '\\n', 'Debian GNU/Hurd console startup and login\\n', '\\n', 'GNU is a Unix-like computer operating system developed by the GNU Project. It is composed wholly of free software. It is based on the GNU Hurd kernel and is intended to be a \"complete Unix-compatible software system\" GNU is a recursive acronym for \"GNU\\'s Not Unix!\", chosen because GNU\\'s design is Unix-like, but differs from Unix by being free software and containing no Unix code. \\n', '\\n', 'Development of GNU was initiated by Richard Stallman in 1983 and was the original focus of the Free Software Foundation (FSF), but no stable release of GNU yet exists . Vaughan-Nichols, Steven J. \"Opinion: The top 10 operating system stinkers\" in Computerworld, April 9, 2009: \"But after more than 25 years in development, GNU remains incomplete: Its kernel, Hurd, has never really made it out of the starting blocks. ... Almost no one has actually been able to use the OS; it\\'s really more a set of ideas than an operating system.\" Hillesley, Richard. \"GNU HURD: Altered visions and lost promise\", June 30, 2010. See especially page 3: \"Nearly twenty years later the HURD has still to reach maturity, and has never achieved production quality.\" ... \"Some of us are still wishing and hoping for the real deal, a GNU operating system with a GNU kernel.\" Lessig, Lawrence. The Future of Ideas: The Fate of the Commons in a Connected World, p. 54. Random House, Inc., 2001. ISBN 978-0-375-50578-2. Referring to Stallman, Lessig wrote, \"He had mixed all of the ingredients needed for an operating system to function, but he was missing the core.\" However, non-GNU kernels, most famously the Linux kernel, can also be used with GNU software. Stallman views GNU as a \"technical means to a social end.\" Richard Stallman\\'s speech in Stockholm, Sweden in 1986 www.gnu.org \\n', '\\n', '== History ==\\n', 'Richard Stallman, founder of the GNU project\\n', '\\n', 'The plan for the GNU (\"GNU\\'s Not Unix!\") operating system was publicly announced on September 27, 1983, on the net.unix-wizards and net.usoft newsgroups by Richard Stallman. Software development began on January 5, 1984, when Stallman quit his job at the Massachusetts Institute of Technology (MIT) Artificial Intelligence Laboratory so that they could not claim ownership or interfere with distributing GNU as free software. Richard Stallman chose the name by using various plays on words, including the song The Gnu. \\n', '\\n', 'The goal was to bring a wholly free software operating system into existence. Stallman wanted computer users to be \"free\", as most were in the 1960s and 1970s â\\x80\\x93 free to study the source code of the software they use, free to share the software with other people, free to modify the behavior of the software, and free to publish their modified versions of the software. This philosophy was later published as the GNU Manifesto in March 1985. \\n', '\\n', \"Richard Stallman's experience with the Incompatible Timesharing System (ITS), an early operating system written in assembly language that became obsolete due to discontinuation of PDP-10, the computer architecture for which ITS was written, led to a decision that a portable system was necessary. It was thus decided that GNU would be mostly compatible with Unix. At the time, Unix was already a popular proprietary operating system. The design of Unix was modular, so it could be reimplemented piece by piece. \\n\", '\\n', 'Much of the needed software had to be written from scratch, but existing compatible third-party free software components were also used such as the TeX typesetting system, the X Window System, and the Mach microkernel that forms the basis of the GNU Mach core of GNU Hurd (the official kernel of GNU). With the exception of the aforementioned third-party components, most of GNU has been written by volunteers of the GNU Project; some in their spare time, some paid by companies, educational institutions, and other non-profit organizations. In October 1985, Stallman set up the Free Software Foundation (FSF). In the late 1980s and 1990s, the FSF hired software developers to write the software needed for GNU. \\n', '\\n', 'As GNU gained prominence, interested businesses began contributing to development or selling GNU software and technical support. The most prominent and successful of these was Cygnus Solutions, now part of Red Hat. Red Hat buys software firm, shuffles CEO - CNET News \\n', '\\n', '== Components ==\\n', '\\n', \"The system's basic components include the GNU Compiler Collection (GCC), the GNU C library (glibc), and GNU Core Utilities (coreutils), but also the GNU Debugger (GDB), GNU Binary Utilities (binutils), the bash shell and the GNOME desktop environment. GNU developers have contributed Linux ports of GNU applications and utilities, which are now also widely used on other operating systems such as BSD variants, Solaris and Mac OS X. \\n\", '\\n', 'Many GNU programs have been ported to other operating systems, including proprietary platforms such as Microsoft Windows and Mac OS X. Compared to their proprietary Unix counterparts, GNU programs have also been shown to be more reliable. Fuzz Revisited: A Re-examination of the Reliability of UNIX Utilities and Services - October 1995 - Computer Sciences Department,University of Wisconsin \\n', '\\n', 'As of 2007, there are a total of 319 GNU packages hosted on the official GNU development site. \\n', '\\n', 'gNewSense, an example of a FSF approved distribution\\n', 'Parabola, an example of a FSF approved distribution that uses a rolling release model\\n', '\\n', '==GNU variants==\\n']\n"
     ]
    }
   ],
   "source": [
    "#Using os libary to read all files present in a folder efficiently\n",
    "import os\n",
    "#Using os.listdir() Method, Python method listdir() returns a list containing the names of the entries in the directory given by path.\n",
    "folderpath = r\"C:\\Users\\amir\\Desktop\\wikiallfiles\"\n",
    "filepaths = [os.path.join(folderpath, filename) for filename in os.listdir(folderpath)]\n",
    "myfile = []\n",
    "for path in filepaths:\n",
    "    with open(path, 'r', encoding=\"ISO-8859-1\") as readedfile:\n",
    "        readedfile = readedfile.readlines()\n",
    "        print(readedfile)\n",
    "        myfile.append(readedfile)"
   ]
  },
  {
   "cell_type": "code",
   "execution_count": 2,
   "id": "f0282ee3",
   "metadata": {},
   "outputs": [
    {
     "name": "stdout",
     "output_type": "stream",
     "text": [
      "Readed Data:  ['[[GNU]]\\n', '\\n', 'Debian GNU/Hurd console startup and login\\n', '\\n', 'GNU is a Unix-like computer operating system developed by the GNU Project. It is composed wholly of free software. It is based on the GNU Hurd kernel and is intended to be a \"complete Unix-compatible software system\" GNU is a recursive acronym for \"GNU\\'s Not Unix!\", chosen because GNU\\'s design is Unix-like, but differs from Unix by being free software and containing no Unix code. \\n', '\\n', 'Development of GNU was initiated by Richard Stallman in 1983 and was the original focus of the Free Software Foundation (FSF), but no stable release of GNU yet exists . Vaughan-Nichols, Steven J. \"Opinion: The top 10 operating system stinkers\" in Computerworld, April 9, 2009: \"But after more than 25 years in development, GNU remains incomplete: Its kernel, Hurd, has never really made it out of the starting blocks. ... Almost no one has actually been able to use the OS; it\\'s really more a set of ideas than an operating system.\" Hillesley, Richard. \"GNU HURD: Altered visions and lost promise\", June 30, 2010. See especially page 3: \"Nearly twenty years later the HURD has still to reach maturity, and has never achieved production quality.\" ... \"Some of us are still wishing and hoping for the real deal, a GNU operating system with a GNU kernel.\" Lessig, Lawrence. The Future of Ideas: The Fate of the Commons in a Connected World, p. 54. Random House, Inc., 2001. ISBN 978-0-375-50578-2. Referring to Stallman, Lessig wrote, \"He had mixed all of the ingredients needed for an operating system to function, but he was missing the core.\" However, non-GNU kernels, most famously the Linux kernel, can also be used with GNU software. Stallman views GNU as a \"technical means to a social end.\" Richard Stallman\\'s speech in Stockholm, Sweden in 1986 www.gnu.org \\n', '\\n', '== History ==\\n', 'Richard Stallman, founder of the GNU project\\n', '\\n', 'The plan for the GNU (\"GNU\\'s Not Unix!\") operating system was publicly announced on September 27, 1983, on the net.unix-wizards and net.usoft newsgroups by Richard Stallman. Software development began on January 5, 1984, when Stallman quit his job at the Massachusetts Institute of Technology (MIT) Artificial Intelligence Laboratory so that they could not claim ownership or interfere with distributing GNU as free software. Richard Stallman chose the name by using various plays on words, including the song The Gnu. \\n', '\\n', 'The goal was to bring a wholly free software operating system into existence. Stallman wanted computer users to be \"free\", as most were in the 1960s and 1970s â\\x80\\x93 free to study the source code of the software they use, free to share the software with other people, free to modify the behavior of the software, and free to publish their modified versions of the software. This philosophy was later published as the GNU Manifesto in March 1985. \\n', '\\n', \"Richard Stallman's experience with the Incompatible Timesharing System (ITS), an early operating system written in assembly language that became obsolete due to discontinuation of PDP-10, the computer architecture for which ITS was written, led to a decision that a portable system was necessary. It was thus decided that GNU would be mostly compatible with Unix. At the time, Unix was already a popular proprietary operating system. The design of Unix was modular, so it could be reimplemented piece by piece. \\n\", '\\n', 'Much of the needed software had to be written from scratch, but existing compatible third-party free software components were also used such as the TeX typesetting system, the X Window System, and the Mach microkernel that forms the basis of the GNU Mach core of GNU Hurd (the official kernel of GNU). With the exception of the aforementioned third-party components, most of GNU has been written by volunteers of the GNU Project; some in their spare time, some paid by companies, educational institutions, and other non-profit organizations. In October 1985, Stallman set up the Free Software Foundation (FSF). In the late 1980s and 1990s, the FSF hired software developers to write the software needed for GNU. \\n', '\\n', 'As GNU gained prominence, interested businesses began contributing to development or selling GNU software and technical support. The most prominent and successful of these was Cygnus Solutions, now part of Red Hat. Red Hat buys software firm, shuffles CEO - CNET News \\n', '\\n', '== Components ==\\n', '\\n', \"The system's basic components include the GNU Compiler Collection (GCC), the GNU C library (glibc), and GNU Core Utilities (coreutils), but also the GNU Debugger (GDB), GNU Binary Utilities (binutils), the bash shell and the GNOME desktop environment. GNU developers have contributed Linux ports of GNU applications and utilities, which are now also widely used on other operating systems such as BSD variants, Solaris and Mac OS X. \\n\", '\\n', 'Many GNU programs have been ported to other operating systems, including proprietary platforms such as Microsoft Windows and Mac OS X. Compared to their proprietary Unix counterparts, GNU programs have also been shown to be more reliable. Fuzz Revisited: A Re-examination of the Reliability of UNIX Utilities and Services - October 1995 - Computer Sciences Department,University of Wisconsin \\n', '\\n', 'As of 2007, there are a total of 319 GNU packages hosted on the official GNU development site. \\n', '\\n', 'gNewSense, an example of a FSF approved distribution\\n', 'Parabola, an example of a FSF approved distribution that uses a rolling release model\\n', '\\n', '==GNU variants==\\n']\n"
     ]
    }
   ],
   "source": [
    "#Using map() Function to convert list into string type\n",
    "mydata =' '.join(map(str, myfile))\n",
    "print('Readed Data: ',mydata)"
   ]
  },
  {
   "cell_type": "code",
   "execution_count": 3,
   "id": "0d3d9ffd",
   "metadata": {},
   "outputs": [],
   "source": [
    "#Removing processing data to do K-mean Clustring\n",
    "# 1) Stopwords Like is, they, this, and etc\n",
    "# 2) Lemmitization\n",
    "# 3) Symbols Like %,#,& etc"
   ]
  },
  {
   "cell_type": "code",
   "execution_count": 4,
   "id": "77b98cae",
   "metadata": {},
   "outputs": [],
   "source": [
    "#installing nltk libaray and using it for removing stopwords and doing lemmitization\n",
    "%pip install nltk \n",
    "import nltk\n",
    "#Importing stopwords from nltk for removing stopwords\n",
    "nltk.download('stopwords')\n",
    "from nltk.corpus import stopwords\n",
    "from nltk.tokenize import word_tokenize\n",
    "#Importing WordNetLemmatizer from nltk for lemmitization\n",
    "nltk.download('wordnet')\n",
    "nltk.download('punkt')\n",
    "from nltk.stem import WordNetLemmatizer"
   ]
  },
  {
   "cell_type": "code",
   "execution_count": 5,
   "id": "0fa5b625",
   "metadata": {},
   "outputs": [
    {
     "name": "stdout",
     "output_type": "stream",
     "text": [
      "Data After Removing Stopwords:  ['[', \"'\", '[', '[', 'GNU', ']', ']', '\\\\n', \"'\", ',', \"'\\\\n\", \"'\", ',', \"'Debian\", 'GNU/Hurd', 'console', 'startup', 'login\\\\n', \"'\", ',', \"'\\\\n\", \"'\", ',', \"'GNU\", 'Unix-like', 'computer', 'operating', 'system', 'developed', 'GNU', 'Project', '.', 'It', 'composed', 'wholly', 'free', 'software', '.', 'It', 'based', 'GNU', 'Hurd', 'kernel', 'intended', '``', 'complete', 'Unix-compatible', 'software', 'system', \"''\", 'GNU', 'recursive', 'acronym', '``', 'GNU\\\\', \"'s\", 'Not', 'Unix', '!', '``', ',', 'chosen', 'GNU\\\\', \"'s\", 'design', 'Unix-like', ',', 'differs', 'Unix', 'free', 'software', 'containing', 'Unix', 'code', '.', '\\\\n', \"'\", ',', \"'\\\\n\", \"'\", ',', \"'Development\", 'GNU', 'initiated', 'Richard', 'Stallman', '1983', 'original', 'focus', 'Free', 'Software', 'Foundation', '(', 'FSF', ')', ',', 'stable', 'release', 'GNU', 'yet', 'exists', '.', 'Vaughan-Nichols', ',', 'Steven', 'J', '.', '``', 'Opinion', ':', 'The', 'top', '10', 'operating', 'system', 'stinkers', \"''\", 'Computerworld', ',', 'April', '9', ',', '2009', ':', '``', 'But', '25', 'years', 'development', ',', 'GNU', 'remains', 'incomplete', ':', 'Its', 'kernel', ',', 'Hurd', ',', 'never', 'really', 'made', 'starting', 'blocks', '.', '...', 'Almost', 'actually', 'able', 'use', 'OS', ';', 'it\\\\', \"'s\", 'really', 'set', 'ideas', 'operating', 'system', '.', \"''\", 'Hillesley', ',', 'Richard', '.', '``', 'GNU', 'HURD', ':', 'Altered', 'visions', 'lost', 'promise', \"''\", ',', 'June', '30', ',', '2010', '.', 'See', 'especially', 'page', '3', ':', '``', 'Nearly', 'twenty', 'years', 'later', 'HURD', 'still', 'reach', 'maturity', ',', 'never', 'achieved', 'production', 'quality', '.', \"''\", '...', '``', 'Some', 'us', 'still', 'wishing', 'hoping', 'real', 'deal', ',', 'GNU', 'operating', 'system', 'GNU', 'kernel', '.', \"''\", 'Lessig', ',', 'Lawrence', '.', 'The', 'Future', 'Ideas', ':', 'The', 'Fate', 'Commons', 'Connected', 'World', ',', 'p.', '54', '.', 'Random', 'House', ',', 'Inc.', ',', '2001', '.', 'ISBN', '978-0-375-50578-2', '.', 'Referring', 'Stallman', ',', 'Lessig', 'wrote', ',', '``', 'He', 'mixed', 'ingredients', 'needed', 'operating', 'system', 'function', ',', 'missing', 'core', '.', \"''\", 'However', ',', 'non-GNU', 'kernels', ',', 'famously', 'Linux', 'kernel', ',', 'used', 'GNU', 'software', '.', 'Stallman', 'views', 'GNU', '``', 'technical', 'means', 'social', '.', \"''\", 'Richard', 'Stallman\\\\', \"'s\", 'speech', 'Stockholm', ',', 'Sweden', '1986', 'www.gnu.org', '\\\\n', \"'\", ',', \"'\\\\n\", \"'\", ',', \"'==\", 'History', '==\\\\n', \"'\", ',', \"'Richard\", 'Stallman', ',', 'founder', 'GNU', 'project\\\\n', \"'\", ',', \"'\\\\n\", \"'\", ',', \"'The\", 'plan', 'GNU', '(', '``', 'GNU\\\\', \"'s\", 'Not', 'Unix', '!', \"''\", ')', 'operating', 'system', 'publicly', 'announced', 'September', '27', ',', '1983', ',', 'net.unix-wizards', 'net.usoft', 'newsgroups', 'Richard', 'Stallman', '.', 'Software', 'development', 'began', 'January', '5', ',', '1984', ',', 'Stallman', 'quit', 'job', 'Massachusetts', 'Institute', 'Technology', '(', 'MIT', ')', 'Artificial', 'Intelligence', 'Laboratory', 'could', 'claim', 'ownership', 'interfere', 'distributing', 'GNU', 'free', 'software', '.', 'Richard', 'Stallman', 'chose', 'using', 'various', 'plays', 'words', ',', 'including', 'song', 'The', 'Gnu', '.', '\\\\n', \"'\", ',', \"'\\\\n\", \"'\", ',', \"'The\", 'goal', 'bring', 'wholly', 'free', 'software', 'operating', 'system', 'existence', '.', 'Stallman', 'wanted', 'computer', 'users', '``', 'free', \"''\", ',', '1960s', '1970s', 'â\\\\x80\\\\x93', 'free', 'study', 'source', 'code', 'software', 'use', ',', 'free', 'share', 'software', 'people', ',', 'free', 'modify', 'behavior', 'software', ',', 'free', 'publish', 'modified', 'versions', 'software', '.', 'This', 'philosophy', 'later', 'published', 'GNU', 'Manifesto', 'March', '1985', '.', '\\\\n', \"'\", ',', \"'\\\\n\", \"'\", ',', '``', 'Richard', 'Stallman', \"'s\", 'experience', 'Incompatible', 'Timesharing', 'System', '(', 'ITS', ')', ',', 'early', 'operating', 'system', 'written', 'assembly', 'language', 'became', 'obsolete', 'due', 'discontinuation', 'PDP-10', ',', 'computer', 'architecture', 'ITS', 'written', ',', 'led', 'decision', 'portable', 'system', 'necessary', '.', 'It', 'thus', 'decided', 'GNU', 'would', 'mostly', 'compatible', 'Unix', '.', 'At', 'time', ',', 'Unix', 'already', 'popular', 'proprietary', 'operating', 'system', '.', 'The', 'design', 'Unix', 'modular', ',', 'could', 'reimplemented', 'piece', 'piece', '.', '\\\\n', \"''\", ',', \"'\\\\n\", \"'\", ',', \"'Much\", 'needed', 'software', 'written', 'scratch', ',', 'existing', 'compatible', 'third-party', 'free', 'software', 'components', 'used', 'TeX', 'typesetting', 'system', ',', 'X', 'Window', 'System', ',', 'Mach', 'microkernel', 'forms', 'basis', 'GNU', 'Mach', 'core', 'GNU', 'Hurd', '(', 'official', 'kernel', 'GNU', ')', '.', 'With', 'exception', 'aforementioned', 'third-party', 'components', ',', 'GNU', 'written', 'volunteers', 'GNU', 'Project', ';', 'spare', 'time', ',', 'paid', 'companies', ',', 'educational', 'institutions', ',', 'non-profit', 'organizations', '.', 'In', 'October', '1985', ',', 'Stallman', 'set', 'Free', 'Software', 'Foundation', '(', 'FSF', ')', '.', 'In', 'late', '1980s', '1990s', ',', 'FSF', 'hired', 'software', 'developers', 'write', 'software', 'needed', 'GNU', '.', '\\\\n', \"'\", ',', \"'\\\\n\", \"'\", ',', \"'As\", 'GNU', 'gained', 'prominence', ',', 'interested', 'businesses', 'began', 'contributing', 'development', 'selling', 'GNU', 'software', 'technical', 'support', '.', 'The', 'prominent', 'successful', 'Cygnus', 'Solutions', ',', 'part', 'Red', 'Hat', '.', 'Red', 'Hat', 'buys', 'software', 'firm', ',', 'shuffles', 'CEO', '-', 'CNET', 'News', '\\\\n', \"'\", ',', \"'\\\\n\", \"'\", ',', \"'==\", 'Components', '==\\\\n', \"'\", ',', \"'\\\\n\", \"'\", ',', '``', 'The', 'system', \"'s\", 'basic', 'components', 'include', 'GNU', 'Compiler', 'Collection', '(', 'GCC', ')', ',', 'GNU', 'C', 'library', '(', 'glibc', ')', ',', 'GNU', 'Core', 'Utilities', '(', 'coreutils', ')', ',', 'GNU', 'Debugger', '(', 'GDB', ')', ',', 'GNU', 'Binary', 'Utilities', '(', 'binutils', ')', ',', 'bash', 'shell', 'GNOME', 'desktop', 'environment', '.', 'GNU', 'developers', 'contributed', 'Linux', 'ports', 'GNU', 'applications', 'utilities', ',', 'widely', 'used', 'operating', 'systems', 'BSD', 'variants', ',', 'Solaris', 'Mac', 'OS', 'X', '.', '\\\\n', \"''\", ',', \"'\\\\n\", \"'\", ',', \"'Many\", 'GNU', 'programs', 'ported', 'operating', 'systems', ',', 'including', 'proprietary', 'platforms', 'Microsoft', 'Windows', 'Mac', 'OS', 'X', '.', 'Compared', 'proprietary', 'Unix', 'counterparts', ',', 'GNU', 'programs', 'shown', 'reliable', '.', 'Fuzz', 'Revisited', ':', 'A', 'Re-examination', 'Reliability', 'UNIX', 'Utilities', 'Services', '-', 'October', '1995', '-', 'Computer', 'Sciences', 'Department', ',', 'University', 'Wisconsin', '\\\\n', \"'\", ',', \"'\\\\n\", \"'\", ',', \"'As\", '2007', ',', 'total', '319', 'GNU', 'packages', 'hosted', 'official', 'GNU', 'development', 'site', '.', '\\\\n', \"'\", ',', \"'\\\\n\", \"'\", ',', \"'gNewSense\", ',', 'example', 'FSF', 'approved', 'distribution\\\\n', \"'\", ',', \"'Parabola\", ',', 'example', 'FSF', 'approved', 'distribution', 'uses', 'rolling', 'release', 'model\\\\n', \"'\", ',', \"'\\\\n\", \"'\", ',', \"'==GNU\", 'variants==\\\\n', \"'\", ']']\n"
     ]
    }
   ],
   "source": [
    "#First of all tokenizing the data\n",
    "tokenized_data = word_tokenize(mydata)\n",
    "#Removing Stopwords from the text\n",
    "updateddata = [word for word in tokenized_data if not word in stopwords.words()]\n",
    "print('Data After Removing Stopwords: ',updateddata)"
   ]
  },
  {
   "cell_type": "code",
   "execution_count": 6,
   "id": "f0c6445a",
   "metadata": {},
   "outputs": [
    {
     "name": "stdout",
     "output_type": "stream",
     "text": [
      "Data after Performing Lemmitization:  ['[', \"'\", '[', '[', 'GNU', ']', ']', '\\\\n', \"'\", ',', \"'\\\\n\", \"'\", ',', \"'Debian\", 'GNU/Hurd', 'console', 'startup', 'login\\\\n', \"'\", ',', \"'\\\\n\", \"'\", ',', \"'GNU\", 'Unix-like', 'computer', 'operating', 'system', 'developed', 'GNU', 'Project', '.', 'It', 'composed', 'wholly', 'free', 'software', '.', 'It', 'based', 'GNU', 'Hurd', 'kernel', 'intended', '``', 'complete', 'Unix-compatible', 'software', 'system', \"''\", 'GNU', 'recursive', 'acronym', '``', 'GNU\\\\', \"'s\", 'Not', 'Unix', '!', '``', ',', 'chosen', 'GNU\\\\', \"'s\", 'design', 'Unix-like', ',', 'differs', 'Unix', 'free', 'software', 'containing', 'Unix', 'code', '.', '\\\\n', \"'\", ',', \"'\\\\n\", \"'\", ',', \"'Development\", 'GNU', 'initiated', 'Richard', 'Stallman', '1983', 'original', 'focus', 'Free', 'Software', 'Foundation', '(', 'FSF', ')', ',', 'stable', 'release', 'GNU', 'yet', 'exists', '.', 'Vaughan-Nichols', ',', 'Steven', 'J', '.', '``', 'Opinion', ':', 'The', 'top', '10', 'operating', 'system', 'stinker', \"''\", 'Computerworld', ',', 'April', '9', ',', '2009', ':', '``', 'But', '25', 'year', 'development', ',', 'GNU', 'remains', 'incomplete', ':', 'Its', 'kernel', ',', 'Hurd', ',', 'never', 'really', 'made', 'starting', 'block', '.', '...', 'Almost', 'actually', 'able', 'use', 'OS', ';', 'it\\\\', \"'s\", 'really', 'set', 'idea', 'operating', 'system', '.', \"''\", 'Hillesley', ',', 'Richard', '.', '``', 'GNU', 'HURD', ':', 'Altered', 'vision', 'lost', 'promise', \"''\", ',', 'June', '30', ',', '2010', '.', 'See', 'especially', 'page', '3', ':', '``', 'Nearly', 'twenty', 'year', 'later', 'HURD', 'still', 'reach', 'maturity', ',', 'never', 'achieved', 'production', 'quality', '.', \"''\", '...', '``', 'Some', 'u', 'still', 'wishing', 'hoping', 'real', 'deal', ',', 'GNU', 'operating', 'system', 'GNU', 'kernel', '.', \"''\", 'Lessig', ',', 'Lawrence', '.', 'The', 'Future', 'Ideas', ':', 'The', 'Fate', 'Commons', 'Connected', 'World', ',', 'p.', '54', '.', 'Random', 'House', ',', 'Inc.', ',', '2001', '.', 'ISBN', '978-0-375-50578-2', '.', 'Referring', 'Stallman', ',', 'Lessig', 'wrote', ',', '``', 'He', 'mixed', 'ingredient', 'needed', 'operating', 'system', 'function', ',', 'missing', 'core', '.', \"''\", 'However', ',', 'non-GNU', 'kernel', ',', 'famously', 'Linux', 'kernel', ',', 'used', 'GNU', 'software', '.', 'Stallman', 'view', 'GNU', '``', 'technical', 'mean', 'social', '.', \"''\", 'Richard', 'Stallman\\\\', \"'s\", 'speech', 'Stockholm', ',', 'Sweden', '1986', 'www.gnu.org', '\\\\n', \"'\", ',', \"'\\\\n\", \"'\", ',', \"'==\", 'History', '==\\\\n', \"'\", ',', \"'Richard\", 'Stallman', ',', 'founder', 'GNU', 'project\\\\n', \"'\", ',', \"'\\\\n\", \"'\", ',', \"'The\", 'plan', 'GNU', '(', '``', 'GNU\\\\', \"'s\", 'Not', 'Unix', '!', \"''\", ')', 'operating', 'system', 'publicly', 'announced', 'September', '27', ',', '1983', ',', 'net.unix-wizards', 'net.usoft', 'newsgroups', 'Richard', 'Stallman', '.', 'Software', 'development', 'began', 'January', '5', ',', '1984', ',', 'Stallman', 'quit', 'job', 'Massachusetts', 'Institute', 'Technology', '(', 'MIT', ')', 'Artificial', 'Intelligence', 'Laboratory', 'could', 'claim', 'ownership', 'interfere', 'distributing', 'GNU', 'free', 'software', '.', 'Richard', 'Stallman', 'chose', 'using', 'various', 'play', 'word', ',', 'including', 'song', 'The', 'Gnu', '.', '\\\\n', \"'\", ',', \"'\\\\n\", \"'\", ',', \"'The\", 'goal', 'bring', 'wholly', 'free', 'software', 'operating', 'system', 'existence', '.', 'Stallman', 'wanted', 'computer', 'user', '``', 'free', \"''\", ',', '1960s', '1970s', 'â\\\\x80\\\\x93', 'free', 'study', 'source', 'code', 'software', 'use', ',', 'free', 'share', 'software', 'people', ',', 'free', 'modify', 'behavior', 'software', ',', 'free', 'publish', 'modified', 'version', 'software', '.', 'This', 'philosophy', 'later', 'published', 'GNU', 'Manifesto', 'March', '1985', '.', '\\\\n', \"'\", ',', \"'\\\\n\", \"'\", ',', '``', 'Richard', 'Stallman', \"'s\", 'experience', 'Incompatible', 'Timesharing', 'System', '(', 'ITS', ')', ',', 'early', 'operating', 'system', 'written', 'assembly', 'language', 'became', 'obsolete', 'due', 'discontinuation', 'PDP-10', ',', 'computer', 'architecture', 'ITS', 'written', ',', 'led', 'decision', 'portable', 'system', 'necessary', '.', 'It', 'thus', 'decided', 'GNU', 'would', 'mostly', 'compatible', 'Unix', '.', 'At', 'time', ',', 'Unix', 'already', 'popular', 'proprietary', 'operating', 'system', '.', 'The', 'design', 'Unix', 'modular', ',', 'could', 'reimplemented', 'piece', 'piece', '.', '\\\\n', \"''\", ',', \"'\\\\n\", \"'\", ',', \"'Much\", 'needed', 'software', 'written', 'scratch', ',', 'existing', 'compatible', 'third-party', 'free', 'software', 'component', 'used', 'TeX', 'typesetting', 'system', ',', 'X', 'Window', 'System', ',', 'Mach', 'microkernel', 'form', 'basis', 'GNU', 'Mach', 'core', 'GNU', 'Hurd', '(', 'official', 'kernel', 'GNU', ')', '.', 'With', 'exception', 'aforementioned', 'third-party', 'component', ',', 'GNU', 'written', 'volunteer', 'GNU', 'Project', ';', 'spare', 'time', ',', 'paid', 'company', ',', 'educational', 'institution', ',', 'non-profit', 'organization', '.', 'In', 'October', '1985', ',', 'Stallman', 'set', 'Free', 'Software', 'Foundation', '(', 'FSF', ')', '.', 'In', 'late', '1980s', '1990s', ',', 'FSF', 'hired', 'software', 'developer', 'write', 'software', 'needed', 'GNU', '.', '\\\\n', \"'\", ',', \"'\\\\n\", \"'\", ',', \"'As\", 'GNU', 'gained', 'prominence', ',', 'interested', 'business', 'began', 'contributing', 'development', 'selling', 'GNU', 'software', 'technical', 'support', '.', 'The', 'prominent', 'successful', 'Cygnus', 'Solutions', ',', 'part', 'Red', 'Hat', '.', 'Red', 'Hat', 'buy', 'software', 'firm', ',', 'shuffle', 'CEO', '-', 'CNET', 'News', '\\\\n', \"'\", ',', \"'\\\\n\", \"'\", ',', \"'==\", 'Components', '==\\\\n', \"'\", ',', \"'\\\\n\", \"'\", ',', '``', 'The', 'system', \"'s\", 'basic', 'component', 'include', 'GNU', 'Compiler', 'Collection', '(', 'GCC', ')', ',', 'GNU', 'C', 'library', '(', 'glibc', ')', ',', 'GNU', 'Core', 'Utilities', '(', 'coreutils', ')', ',', 'GNU', 'Debugger', '(', 'GDB', ')', ',', 'GNU', 'Binary', 'Utilities', '(', 'binutils', ')', ',', 'bash', 'shell', 'GNOME', 'desktop', 'environment', '.', 'GNU', 'developer', 'contributed', 'Linux', 'port', 'GNU', 'application', 'utility', ',', 'widely', 'used', 'operating', 'system', 'BSD', 'variant', ',', 'Solaris', 'Mac', 'OS', 'X', '.', '\\\\n', \"''\", ',', \"'\\\\n\", \"'\", ',', \"'Many\", 'GNU', 'program', 'ported', 'operating', 'system', ',', 'including', 'proprietary', 'platform', 'Microsoft', 'Windows', 'Mac', 'OS', 'X', '.', 'Compared', 'proprietary', 'Unix', 'counterpart', ',', 'GNU', 'program', 'shown', 'reliable', '.', 'Fuzz', 'Revisited', ':', 'A', 'Re-examination', 'Reliability', 'UNIX', 'Utilities', 'Services', '-', 'October', '1995', '-', 'Computer', 'Sciences', 'Department', ',', 'University', 'Wisconsin', '\\\\n', \"'\", ',', \"'\\\\n\", \"'\", ',', \"'As\", '2007', ',', 'total', '319', 'GNU', 'package', 'hosted', 'official', 'GNU', 'development', 'site', '.', '\\\\n', \"'\", ',', \"'\\\\n\", \"'\", ',', \"'gNewSense\", ',', 'example', 'FSF', 'approved', 'distribution\\\\n', \"'\", ',', \"'Parabola\", ',', 'example', 'FSF', 'approved', 'distribution', 'us', 'rolling', 'release', 'model\\\\n', \"'\", ',', \"'\\\\n\", \"'\", ',', \"'==GNU\", 'variants==\\\\n', \"'\", ']']\n"
     ]
    }
   ],
   "source": [
    "#Removing Lemmitization from the text\n",
    "lemmatizer = WordNetLemmatizer()\n",
    "list=[]\n",
    "for x in updateddata:\n",
    "    list.append(lemmatizer.lemmatize(x))\n",
    "print('Data after Performing Lemmitization: ',list)"
   ]
  },
  {
   "cell_type": "code",
   "execution_count": 7,
   "id": "d0b75a5a",
   "metadata": {},
   "outputs": [
    {
     "name": "stdout",
     "output_type": "stream",
     "text": [
      "Data after Removing symbols:  ['', '', '', '', 'GNU', '', '', 'n', '', '', 'n', '', '', 'Debian', 'GNUHurd', 'console', 'startup', 'loginn', '', '', 'n', '', '', 'GNU', 'Unixlike', 'computer', 'operating', 'system', 'developed', 'GNU', 'Project', '', 'It', 'composed', 'wholly', 'free', 'software', '', 'It', 'based', 'GNU', 'Hurd', 'kernel', 'intended', '', 'complete', 'Unixcompatible', 'software', 'system', '', 'GNU', 'recursive', 'acronym', '', 'GNU', 's', 'Not', 'Unix', '', '', '', 'chosen', 'GNU', 's', 'design', 'Unixlike', '', 'differs', 'Unix', 'free', 'software', 'containing', 'Unix', 'code', '', 'n', '', '', 'n', '', '', 'Development', 'GNU', 'initiated', 'Richard', 'Stallman', '1983', 'original', 'focus', 'Free', 'Software', 'Foundation', '', 'FSF', '', '', 'stable', 'release', 'GNU', 'yet', 'exists', '', 'VaughanNichols', '', 'Steven', 'J', '', '', 'Opinion', '', 'The', 'top', '10', 'operating', 'system', 'stinker', '', 'Computerworld', '', 'April', '9', '', '2009', '', '', 'But', '25', 'year', 'development', '', 'GNU', 'remains', 'incomplete', '', 'Its', 'kernel', '', 'Hurd', '', 'never', 'really', 'made', 'starting', 'block', '', '', 'Almost', 'actually', 'able', 'use', 'OS', '', 'it', 's', 'really', 'set', 'idea', 'operating', 'system', '', '', 'Hillesley', '', 'Richard', '', '', 'GNU', 'HURD', '', 'Altered', 'vision', 'lost', 'promise', '', '', 'June', '30', '', '2010', '', 'See', 'especially', 'page', '3', '', '', 'Nearly', 'twenty', 'year', 'later', 'HURD', 'still', 'reach', 'maturity', '', 'never', 'achieved', 'production', 'quality', '', '', '', '', 'Some', 'u', 'still', 'wishing', 'hoping', 'real', 'deal', '', 'GNU', 'operating', 'system', 'GNU', 'kernel', '', '', 'Lessig', '', 'Lawrence', '', 'The', 'Future', 'Ideas', '', 'The', 'Fate', 'Commons', 'Connected', 'World', '', 'p', '54', '', 'Random', 'House', '', 'Inc', '', '2001', '', 'ISBN', '9780375505782', '', 'Referring', 'Stallman', '', 'Lessig', 'wrote', '', '', 'He', 'mixed', 'ingredient', 'needed', 'operating', 'system', 'function', '', 'missing', 'core', '', '', 'However', '', 'nonGNU', 'kernel', '', 'famously', 'Linux', 'kernel', '', 'used', 'GNU', 'software', '', 'Stallman', 'view', 'GNU', '', 'technical', 'mean', 'social', '', '', 'Richard', 'Stallman', 's', 'speech', 'Stockholm', '', 'Sweden', '1986', 'wwwgnuorg', 'n', '', '', 'n', '', '', '', 'History', 'n', '', '', 'Richard', 'Stallman', '', 'founder', 'GNU', 'projectn', '', '', 'n', '', '', 'The', 'plan', 'GNU', '', '', 'GNU', 's', 'Not', 'Unix', '', '', '', 'operating', 'system', 'publicly', 'announced', 'September', '27', '', '1983', '', 'netunixwizards', 'netusoft', 'newsgroups', 'Richard', 'Stallman', '', 'Software', 'development', 'began', 'January', '5', '', '1984', '', 'Stallman', 'quit', 'job', 'Massachusetts', 'Institute', 'Technology', '', 'MIT', '', 'Artificial', 'Intelligence', 'Laboratory', 'could', 'claim', 'ownership', 'interfere', 'distributing', 'GNU', 'free', 'software', '', 'Richard', 'Stallman', 'chose', 'using', 'various', 'play', 'word', '', 'including', 'song', 'The', 'Gnu', '', 'n', '', '', 'n', '', '', 'The', 'goal', 'bring', 'wholly', 'free', 'software', 'operating', 'system', 'existence', '', 'Stallman', 'wanted', 'computer', 'user', '', 'free', '', '', '1960s', '1970s', 'x80x93', 'free', 'study', 'source', 'code', 'software', 'use', '', 'free', 'share', 'software', 'people', '', 'free', 'modify', 'behavior', 'software', '', 'free', 'publish', 'modified', 'version', 'software', '', 'This', 'philosophy', 'later', 'published', 'GNU', 'Manifesto', 'March', '1985', '', 'n', '', '', 'n', '', '', '', 'Richard', 'Stallman', 's', 'experience', 'Incompatible', 'Timesharing', 'System', '', 'ITS', '', '', 'early', 'operating', 'system', 'written', 'assembly', 'language', 'became', 'obsolete', 'due', 'discontinuation', 'PDP10', '', 'computer', 'architecture', 'ITS', 'written', '', 'led', 'decision', 'portable', 'system', 'necessary', '', 'It', 'thus', 'decided', 'GNU', 'would', 'mostly', 'compatible', 'Unix', '', 'At', 'time', '', 'Unix', 'already', 'popular', 'proprietary', 'operating', 'system', '', 'The', 'design', 'Unix', 'modular', '', 'could', 'reimplemented', 'piece', 'piece', '', 'n', '', '', 'n', '', '', 'Much', 'needed', 'software', 'written', 'scratch', '', 'existing', 'compatible', 'thirdparty', 'free', 'software', 'component', 'used', 'TeX', 'typesetting', 'system', '', 'X', 'Window', 'System', '', 'Mach', 'microkernel', 'form', 'basis', 'GNU', 'Mach', 'core', 'GNU', 'Hurd', '', 'official', 'kernel', 'GNU', '', '', 'With', 'exception', 'aforementioned', 'thirdparty', 'component', '', 'GNU', 'written', 'volunteer', 'GNU', 'Project', '', 'spare', 'time', '', 'paid', 'company', '', 'educational', 'institution', '', 'nonprofit', 'organization', '', 'In', 'October', '1985', '', 'Stallman', 'set', 'Free', 'Software', 'Foundation', '', 'FSF', '', '', 'In', 'late', '1980s', '1990s', '', 'FSF', 'hired', 'software', 'developer', 'write', 'software', 'needed', 'GNU', '', 'n', '', '', 'n', '', '', 'As', 'GNU', 'gained', 'prominence', '', 'interested', 'business', 'began', 'contributing', 'development', 'selling', 'GNU', 'software', 'technical', 'support', '', 'The', 'prominent', 'successful', 'Cygnus', 'Solutions', '', 'part', 'Red', 'Hat', '', 'Red', 'Hat', 'buy', 'software', 'firm', '', 'shuffle', 'CEO', '', 'CNET', 'News', 'n', '', '', 'n', '', '', '', 'Components', 'n', '', '', 'n', '', '', '', 'The', 'system', 's', 'basic', 'component', 'include', 'GNU', 'Compiler', 'Collection', '', 'GCC', '', '', 'GNU', 'C', 'library', '', 'glibc', '', '', 'GNU', 'Core', 'Utilities', '', 'coreutils', '', '', 'GNU', 'Debugger', '', 'GDB', '', '', 'GNU', 'Binary', 'Utilities', '', 'binutils', '', '', 'bash', 'shell', 'GNOME', 'desktop', 'environment', '', 'GNU', 'developer', 'contributed', 'Linux', 'port', 'GNU', 'application', 'utility', '', 'widely', 'used', 'operating', 'system', 'BSD', 'variant', '', 'Solaris', 'Mac', 'OS', 'X', '', 'n', '', '', 'n', '', '', 'Many', 'GNU', 'program', 'ported', 'operating', 'system', '', 'including', 'proprietary', 'platform', 'Microsoft', 'Windows', 'Mac', 'OS', 'X', '', 'Compared', 'proprietary', 'Unix', 'counterpart', '', 'GNU', 'program', 'shown', 'reliable', '', 'Fuzz', 'Revisited', '', 'A', 'Reexamination', 'Reliability', 'UNIX', 'Utilities', 'Services', '', 'October', '1995', '', 'Computer', 'Sciences', 'Department', '', 'University', 'Wisconsin', 'n', '', '', 'n', '', '', 'As', '2007', '', 'total', '319', 'GNU', 'package', 'hosted', 'official', 'GNU', 'development', 'site', '', 'n', '', '', 'n', '', '', 'gNewSense', '', 'example', 'FSF', 'approved', 'distributionn', '', '', 'Parabola', '', 'example', 'FSF', 'approved', 'distribution', 'us', 'rolling', 'release', 'modeln', '', '', 'n', '', '', 'GNU', 'variantsn', '', '']\n"
     ]
    }
   ],
   "source": [
    "#Using re libary to remove symbols from the data\n",
    "import re\n",
    "updateddata = []\n",
    "updateddata = [re.sub('[^a-zA-Z0-9]+','', _) for _ in list]\n",
    "print('Data after Removing symbols: ',updateddata)"
   ]
  },
  {
   "cell_type": "code",
   "execution_count": 8,
   "id": "b37092b6",
   "metadata": {},
   "outputs": [],
   "source": [
    "#using sklearn libary to perform k means clustring on process data\n",
    "from sklearn.feature_extraction.text import TfidfVectorizer\n",
    "from sklearn.cluster import KMeans\n",
    "from sklearn.metrics import adjusted_rand_score\n",
    "#importing warnings libary to ignore warnings\n",
    "from warnings import simplefilter\n",
    "simplefilter(action='ignore', category=FutureWarning)"
   ]
  },
  {
   "cell_type": "code",
   "execution_count": 9,
   "id": "7c452409",
   "metadata": {},
   "outputs": [
    {
     "name": "stdout",
     "output_type": "stream",
     "text": [
      "Top Terms in Every Cluster: \n",
      " \n",
      "Cluster 0:\n",
      " gnu\n",
      " software\n",
      " free\n",
      " operating\n",
      " stallman\n",
      " unix\n",
      " richard\n",
      " kernel\n",
      " fsf\n",
      " hurd\n",
      " \n",
      "Cluster 1:\n",
      " utilities\n",
      " year\n",
      " foundation\n",
      " experience\n",
      " famously\n",
      " fate\n",
      " firm\n",
      " focus\n",
      " form\n",
      " founder\n",
      " \n",
      "Cluster 2:\n",
      " development\n",
      " year\n",
      " founder\n",
      " experience\n",
      " famously\n",
      " fate\n",
      " firm\n",
      " focus\n",
      " form\n",
      " foundation\n",
      " \n",
      "Cluster 3:\n",
      " use\n",
      " year\n",
      " foundation\n",
      " experience\n",
      " famously\n",
      " fate\n",
      " firm\n",
      " focus\n",
      " form\n",
      " founder\n",
      " \n",
      "Cluster 4:\n",
      " written\n",
      " year\n",
      " foundation\n",
      " exists\n",
      " experience\n",
      " famously\n",
      " fate\n",
      " firm\n",
      " focus\n",
      " form\n"
     ]
    }
   ],
   "source": [
    "vectorizer = TfidfVectorizer(stop_words= 'english')\n",
    "X = vectorizer.fit_transform(updateddata)\n",
    "k_size= 5\n",
    "model = KMeans(n_clusters=k_size, init='k-means++', max_iter=100, n_init=1)\n",
    "model.fit(X)\n",
    "print(\"Top Terms in Every Cluster: \")\n",
    "ordercentroids = model.cluster_centers_.argsort()[:, ::-1]\n",
    "Terms = vectorizer.get_feature_names()\n",
    "for i in range(k_size):\n",
    "    print(' ')\n",
    "    print(\"Cluster %d:\" % i),\n",
    "    for j in ordercentroids [i, :10]:\n",
    "        print(' %s' % Terms[j]),"
   ]
  },
  {
   "cell_type": "code",
   "execution_count": 10,
   "id": "2f85c395",
   "metadata": {},
   "outputs": [
    {
     "name": "stdout",
     "output_type": "stream",
     "text": [
      "Predicting Cluster:\n",
      "Present in Cluster:  [0]\n",
      "Present in Cluster:  [0]\n",
      "Present in Cluster:  [0]\n"
     ]
    }
   ],
   "source": [
    "print(\"Predicting Cluster:\")\n",
    "\n",
    "Y = vectorizer.transform([\"Laboratory\"])\n",
    "Predicting = model.predict(Y)\n",
    "print('Present in Cluster: ',Predicting)\n",
    "\n",
    "Y = vectorizer.transform([\"The goal was to bring a wholly free software operating system into existence\"])\n",
    "Predicting = model.predict(Y)\n",
    "print('Present in Cluster: ',Predicting)\n",
    "\n",
    "Y = vectorizer.transform([\"software\"])\n",
    "Predicting = model.predict(Y)\n",
    "print('Present in Cluster: ',Predicting)"
   ]
  }
 ],
 "metadata": {
  "kernelspec": {
   "display_name": "Python 3 (ipykernel)",
   "language": "python",
   "name": "python3"
  },
  "language_info": {
   "codemirror_mode": {
    "name": "ipython",
    "version": 3
   },
   "file_extension": ".py",
   "mimetype": "text/x-python",
   "name": "python",
   "nbconvert_exporter": "python",
   "pygments_lexer": "ipython3",
   "version": "3.9.12"
  }
 },
 "nbformat": 4,
 "nbformat_minor": 5
}
