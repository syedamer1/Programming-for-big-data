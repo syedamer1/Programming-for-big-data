{
 "cells": [
  {
   "cell_type": "markdown",
   "id": "3cf65575",
   "metadata": {},
   "source": [
    "## Q1) Write a program that asks the user to enter two numbers. The program should use the conditional operator to determine which number is the smaller and which is the larger."
   ]
  },
  {
   "cell_type": "code",
   "execution_count": 2,
   "id": "6b5bfa78",
   "metadata": {},
   "outputs": [
    {
     "name": "stdout",
     "output_type": "stream",
     "text": [
      "Enter number 1: 5\n",
      "Enter number 2: 6\n",
      "6 is the larger number\n",
      "5 is the smaller number\n"
     ]
    }
   ],
   "source": [
    "num1=int(input(\"Enter number 1: \"))\n",
    "num2=int(input(\"Enter number 2: \"))\n",
    "if num1>num2:\n",
    "    print(num1,\"is the larger number\")\n",
    "    print(num2,\"is the smaller number\")\n",
    "else:\n",
    "    print(num2,\"is the larger number\")\n",
    "    print(num1,\"is the smaller number\")"
   ]
  },
  {
   "cell_type": "markdown",
   "id": "60d8990e",
   "metadata": {},
   "source": [
    "## Q2) Write a program that asks the user to enter a number within the range of 1 through 10. Use a conditional statement to display the Roman numeral version of that number.\n",
    "## Input Validation: Do not accept a number less than 1 or greater than 10."
   ]
  },
  {
   "cell_type": "code",
   "execution_count": null,
   "id": "d5b8a0ab",
   "metadata": {},
   "outputs": [],
   "source": [
    "while x>10:\n",
    "    x=int(input(\"Enter a number between(1-10): \"))\n",
    "if x==1:\n",
    "    print(\"I\")\n",
    "elif x==2:\n",
    "    print(\"II\")\n",
    "elif x==3:\n",
    "    print(\"III\")\n",
    "elif x==4:\n",
    "    print(\"IV\")\n",
    "elif x==5:\n",
    "    print(\"II\")"
   ]
  }
 ],
 "metadata": {
  "kernelspec": {
   "display_name": "Python 3 (ipykernel)",
   "language": "python",
   "name": "python3"
  },
  "language_info": {
   "codemirror_mode": {
    "name": "ipython",
    "version": 3
   },
   "file_extension": ".py",
   "mimetype": "text/x-python",
   "name": "python",
   "nbconvert_exporter": "python",
   "pygments_lexer": "ipython3",
   "version": "3.9.7"
  }
 },
 "nbformat": 4,
 "nbformat_minor": 5
}
